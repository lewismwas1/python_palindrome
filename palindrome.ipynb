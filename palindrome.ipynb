{
 "cells": [
  {
   "cell_type": "code",
   "execution_count": 7,
   "id": "9cd7ecb3",
   "metadata": {},
   "outputs": [
    {
     "name": "stdout",
     "output_type": "stream",
     "text": [
      "Highest palindrome is : \n"
     ]
    }
   ],
   "source": [
    "def highest_palindrome(num1, num2):\n",
    "    num_str1 = str(num1)\n",
    "    num_str2 = str(num2)\n",
    "    concate_str = num_str1 + num_str2\n",
    "    concate_rev = concate_str[::-1]\n",
    "    highest_palindrome = int(concate_str + concate_rev)\n",
    "print(\"Highest palindrome is : \")"
   ]
  },
  {
   "cell_type": "code",
   "execution_count": 19,
   "id": "5ced5949",
   "metadata": {},
   "outputs": [
    {
     "name": "stdout",
     "output_type": "stream",
     "text": [
      "<function largest_palindrome at 0x7fb11eed8430>\n"
     ]
    }
   ],
   "source": [
    "def largest_palindrome():\n",
    "    max_palindrome = 0\n",
    "    for x in range(10, 100):\n",
    "        for y in range(x, 100):\n",
    "            product = x * y\n",
    "            if str(product) == str(product)[::-1] and product > max_palindrome:\n",
    "                max_palindrome = product\n",
    "    return max_palindrome\n",
    "\n",
    "large = largest_palindrome\n",
    "print(large)\n"
   ]
  },
  {
   "cell_type": "code",
   "execution_count": 31,
   "id": "5fb69161",
   "metadata": {},
   "outputs": [
    {
     "name": "stdout",
     "output_type": "stream",
     "text": [
      "<function div at 0x7fb11ef99790>\n"
     ]
    }
   ],
   "source": [
    "def div(x):\n",
    "    divisible = True\n",
    "    for i in range(1,20):\n",
    "        if x%i!=0:\n",
    "            divisible = False\n",
    "            break\n",
    "        elif x%i==0:\n",
    "            divisible = True\n",
    "numb = div\n",
    "print(numb)"
   ]
  },
  {
   "cell_type": "code",
   "execution_count": null,
   "id": "9a0d70f4",
   "metadata": {},
   "outputs": [],
   "source": []
  }
 ],
 "metadata": {
  "kernelspec": {
   "display_name": "Python 3 (ipykernel)",
   "language": "python",
   "name": "python3"
  },
  "language_info": {
   "codemirror_mode": {
    "name": "ipython",
    "version": 3
   },
   "file_extension": ".py",
   "mimetype": "text/x-python",
   "name": "python",
   "nbconvert_exporter": "python",
   "pygments_lexer": "ipython3",
   "version": "3.9.12"
  }
 },
 "nbformat": 4,
 "nbformat_minor": 5
}
